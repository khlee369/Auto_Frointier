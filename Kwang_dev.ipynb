{
 "cells": [
  {
   "cell_type": "code",
   "execution_count": 1,
   "metadata": {
    "collapsed": true
   },
   "outputs": [],
   "source": [
    "from launcher import NoxManager"
   ]
  },
  {
   "cell_type": "code",
   "execution_count": 2,
   "metadata": {
    "collapsed": true
   },
   "outputs": [],
   "source": [
    "config = {\n",
    "    'nox_size' : (600, 800)\n",
    "}"
   ]
  },
  {
   "cell_type": "code",
   "execution_count": 3,
   "metadata": {},
   "outputs": [
    {
     "name": "stdout",
     "output_type": "stream",
     "text": [
      "-------------------------------------\n",
      "Run Nox Application and Press Any Key\n",
      "Now Find Nox Position\n",
      "on scanning... 99.24%\n",
      "\n",
      "Refining Nox Position\n",
      "on scanning... 99.98%\n",
      "\n",
      "Finished\n",
      "\n",
      "------------------------------------------\n",
      "Run Girl's Frontier and Move to Main Menu\n",
      "Now Find Menu Positions\n",
      "\n",
      "Compat Pos Obtained\n",
      "Restore Pos Obtained\n",
      "Formation Pos Obtained\n",
      "Factory Pos Obtained\n",
      "\n",
      "Finished\n"
     ]
    }
   ],
   "source": [
    "manager = NoxManager(config=config)"
   ]
  },
  {
   "cell_type": "code",
   "execution_count": null,
   "metadata": {
    "scrolled": true
   },
   "outputs": [],
   "source": [
    "while True:\n",
    "    manager.check_support(45)"
   ]
  },
  {
   "cell_type": "code",
   "execution_count": null,
   "metadata": {
    "collapsed": true
   },
   "outputs": [],
   "source": [
    "manager.run_3_5n(repeat=2, n_restore=2, retire=False)"
   ]
  },
  {
   "cell_type": "code",
   "execution_count": null,
   "metadata": {
    "collapsed": true
   },
   "outputs": [],
   "source": [
    "manager.run_2_3n(repeat=36, n_restore=9, retire=False)"
   ]
  },
  {
   "cell_type": "code",
   "execution_count": 4,
   "metadata": {
    "scrolled": false
   },
   "outputs": [
    {
     "name": "stdout",
     "output_type": "stream",
     "text": [
      "-------------------------------\n",
      "Return to Base for Running 5-2E\n",
      "Delete Cafe Icon and Press Any Key\n",
      "\n",
      "time : 24.882350437399992          Check support mission\n",
      "Wait for 1 seconds\n",
      "------------------------------\n",
      "Can not find combat button\n",
      "Check support mission\n",
      "Wait result (1/5)\n",
      "Wait result (2/5)\n",
      "Wait result (3/5)\n",
      "Wait result (4/5)\n",
      "Wait result (5/5)\n",
      "1/200                           \n",
      "total time: 217.67675236963353\n",
      "\n",
      "-------------------------------\n",
      "\n",
      "-------------------------------\n",
      "Can not find commander and start button\n",
      "Checking barrack is full\n",
      "Something wrong! Stop running.\n"
     ]
    }
   ],
   "source": [
    "manager.run_5_2e(repeat=200, n_restore=3,retire=True)"
   ]
  },
  {
   "cell_type": "code",
   "execution_count": null,
   "metadata": {
    "collapsed": true,
    "scrolled": false
   },
   "outputs": [],
   "source": [
    "manager.run_4_3e(repeat=40,n_restore=2, retire=True)"
   ]
  },
  {
   "cell_type": "markdown",
   "metadata": {},
   "source": [
    "# TEST"
   ]
  },
  {
   "cell_type": "code",
   "execution_count": null,
   "metadata": {
    "collapsed": true
   },
   "outputs": [],
   "source": [
    "import cv2\n",
    "import time\n",
    "import matplotlib.pyplot as plt\n",
    "import numpy as np\n",
    "import sys\n",
    "import win32api, win32con, win32gui\n",
    "from util import *\n",
    "from mss import mss"
   ]
  },
  {
   "cell_type": "code",
   "execution_count": null,
   "metadata": {
    "collapsed": true
   },
   "outputs": [],
   "source": [
    "nox_img = cv2.imread('./image_files/nox.PNG')"
   ]
  },
  {
   "cell_type": "code",
   "execution_count": null,
   "metadata": {
    "collapsed": true
   },
   "outputs": [],
   "source": [
    "nox_img.shape[0]"
   ]
  },
  {
   "cell_type": "code",
   "execution_count": null,
   "metadata": {
    "collapsed": true
   },
   "outputs": [],
   "source": [
    "manager.nox_pos[0]"
   ]
  },
  {
   "cell_type": "code",
   "execution_count": null,
   "metadata": {
    "collapsed": true
   },
   "outputs": [],
   "source": [
    "nox_img[0].shape"
   ]
  },
  {
   "cell_type": "code",
   "execution_count": null,
   "metadata": {
    "collapsed": true
   },
   "outputs": [],
   "source": [
    "pos, diff = manager.get_relative_pos(cv2.imread('./image_files/terminate.PNG'))\n",
    "print(pos)\n",
    "print(diff)"
   ]
  },
  {
   "cell_type": "code",
   "execution_count": null,
   "metadata": {
    "collapsed": true
   },
   "outputs": [],
   "source": []
  },
  {
   "cell_type": "code",
   "execution_count": null,
   "metadata": {
    "collapsed": true
   },
   "outputs": [],
   "source": [
    "manager.get_relative_mouse_pos()"
   ]
  },
  {
   "cell_type": "code",
   "execution_count": null,
   "metadata": {
    "collapsed": true
   },
   "outputs": [],
   "source": [
    "manager.relative_drag(np.array([200, 650]),np.array([300, 100])); random_sleep(0.5)"
   ]
  },
  {
   "cell_type": "code",
   "execution_count": null,
   "metadata": {
    "collapsed": true
   },
   "outputs": [],
   "source": [
    "pos1, diff1 = manager.get_relative_pos(cv2.imread('./image_files/support_result.PNG'))\n",
    "print(diff1)\n",
    "manager.click_relative_pos(pos1[0])"
   ]
  },
  {
   "cell_type": "code",
   "execution_count": null,
   "metadata": {
    "collapsed": true
   },
   "outputs": [],
   "source": [
    "pos1, diff1 = manager.get_relative_pos(cv2.imread('./image_files/support_confirm.PNG'))\n",
    "print(diff1)\n",
    "manager.click_relative_pos(pos1[0])"
   ]
  },
  {
   "cell_type": "code",
   "execution_count": null,
   "metadata": {
    "collapsed": true
   },
   "outputs": [],
   "source": [
    "pos1, diff1 = manager.get_relative_pos(cv2.imread('./image_files/combat.PNG'))\n",
    "print(diff1)\n",
    "pos2, diff2 = manager.get_relative_pos(cv2.imread('./image_files/restore.PNG'))\n",
    "print(diff2)"
   ]
  },
  {
   "cell_type": "code",
   "execution_count": null,
   "metadata": {
    "collapsed": true
   },
   "outputs": [],
   "source": [
    "ep_pos, diff1 = manager.get_relative_pos(cv2.imread('./image_files/EP05.PNG'),1)\n",
    "print(ep_pos[0])\n",
    "print(diff1)\n",
    "\n",
    "ep_act_pos, diff2 = manager.get_relative_pos(cv2.imread('./image_files/EP05_act.PNG'),1)\n",
    "print(ep_act_pos[0])\n",
    "print(diff2)\n",
    "\n",
    "if diff1<diff2:\n",
    "    manager.click_relative_pos(ep_pos[0])\n",
    "else:\n",
    "    manager.click_relative_pos(ep_act_pos[0])"
   ]
  },
  {
   "cell_type": "code",
   "execution_count": null,
   "metadata": {
    "collapsed": true
   },
   "outputs": [],
   "source": [
    "manager.click_relative_pos(manager.combat_pos)"
   ]
  },
  {
   "cell_type": "code",
   "execution_count": null,
   "metadata": {
    "collapsed": true
   },
   "outputs": [],
   "source": [
    "stage_pos = manager.get_relative_pos(cv2.imread('./image_files/EP02-3.PNG'))[0][0]\n",
    "manager.click_relative_pos(stage_pos); random_sleep(1.5)"
   ]
  },
  {
   "cell_type": "code",
   "execution_count": null,
   "metadata": {
    "collapsed": true
   },
   "outputs": [],
   "source": [
    "manager.relative_drag(np.array([100, 650]),np.array([300, 300])); random_sleep(0.5)"
   ]
  },
  {
   "cell_type": "code",
   "execution_count": null,
   "metadata": {
    "collapsed": true
   },
   "outputs": [],
   "source": [
    "manager.get_relative_mouse_pos()"
   ]
  },
  {
   "cell_type": "code",
   "execution_count": null,
   "metadata": {
    "collapsed": true
   },
   "outputs": [],
   "source": [
    "manager.empty_barrack()"
   ]
  },
  {
   "cell_type": "code",
   "execution_count": null,
   "metadata": {
    "collapsed": true
   },
   "outputs": [],
   "source": [
    "pos1, diff1 = manager.get_relative_pos(cv2.imread('./image_files/return_to_base.PNG'), 1)\n",
    "print(diff1[0])\n",
    "print(pos1)\n",
    "print(manager.get_relative_mouse_pos())"
   ]
  },
  {
   "cell_type": "code",
   "execution_count": null,
   "metadata": {
    "collapsed": true
   },
   "outputs": [],
   "source": [
    "manager.click_relative_pos(manager.factory_pos)"
   ]
  },
  {
   "cell_type": "code",
   "execution_count": null,
   "metadata": {
    "collapsed": true
   },
   "outputs": [],
   "source": [
    "retire_pos = manager.get_relative_pos(cv2.imread('./image_files/retire.PNG'))[0][0]\n",
    "manager.click_relative_pos(retire_pos);"
   ]
  },
  {
   "cell_type": "code",
   "execution_count": null,
   "metadata": {
    "collapsed": true
   },
   "outputs": [],
   "source": [
    "add_doll_pos = manager.get_relative_pos(cv2.imread('./image_files/add_doll_retire.PNG'), 1)[0][0]\n",
    "manager.click_relative_pos(add_doll_pos)"
   ]
  },
  {
   "cell_type": "code",
   "execution_count": null,
   "metadata": {
    "collapsed": true
   },
   "outputs": [],
   "source": [
    "order_by_pos = manager.get_relative_pos(cv2.imread('./image_files/order_by.PNG'), 1)[0][0]\n",
    "manager.click_relative_pos(order_by_pos)\n",
    "order_by_pos"
   ]
  },
  {
   "cell_type": "code",
   "execution_count": null,
   "metadata": {
    "collapsed": true
   },
   "outputs": [],
   "source": [
    "by_rarity_pos = manager.get_relative_pos(cv2.imread('./image_files/by_rarity.PNG'), 1)[0][0]\n",
    "manager.click_relative_pos(by_rarity_pos)"
   ]
  },
  {
   "cell_type": "code",
   "execution_count": null,
   "metadata": {
    "collapsed": true
   },
   "outputs": [],
   "source": [
    "manager.relative_drag(np.array([530, 370]), np.array([10, 370])); random_sleep(0.5)\n",
    "manager.relative_drag(np.array([530, 370]), np.array([10, 370])); random_sleep(0.5)"
   ]
  },
  {
   "cell_type": "code",
   "execution_count": null,
   "metadata": {
    "collapsed": true
   },
   "outputs": [],
   "source": [
    "points1 = [496, 300, 115]\n",
    "points2 = [54, 163, 279, 387, 506, 623]\n",
    "\n",
    "for h in points1:\n",
    "    for w in points2:\n",
    "        manager.click_relative_pos([h, w])\n",
    "        random_sleep(0.4)"
   ]
  },
  {
   "cell_type": "code",
   "execution_count": null,
   "metadata": {
    "collapsed": true
   },
   "outputs": [],
   "source": [
    "retire_confirm_pos = manager.get_relative_pos(cv2.imread('./image_files/retire_confirm.PNG'), 1)[0][0]\n",
    "manager.click_relative_pos(retire_confirm_pos)"
   ]
  },
  {
   "cell_type": "code",
   "execution_count": null,
   "metadata": {
    "collapsed": true
   },
   "outputs": [],
   "source": [
    "disassemble_pos = manager.get_relative_pos(cv2.imread('./image_files/disassemble.PNG'), 1)[0][0]\n",
    "manager.click_relative_pos(disassemble_pos)"
   ]
  },
  {
   "cell_type": "code",
   "execution_count": null,
   "metadata": {
    "collapsed": true
   },
   "outputs": [],
   "source": [
    "manager.empty_barrack()"
   ]
  },
  {
   "cell_type": "code",
   "execution_count": null,
   "metadata": {
    "collapsed": true
   },
   "outputs": [],
   "source": [
    "add_doll_pos = manager.get_relative_pos(cv2.imread('./image_files/add_doll_retire.PNG'), 1)"
   ]
  },
  {
   "cell_type": "code",
   "execution_count": null,
   "metadata": {
    "collapsed": true
   },
   "outputs": [],
   "source": [
    "add_doll_pos"
   ]
  },
  {
   "cell_type": "code",
   "execution_count": null,
   "metadata": {
    "collapsed": true
   },
   "outputs": [],
   "source": []
  },
  {
   "cell_type": "code",
   "execution_count": null,
   "metadata": {
    "collapsed": true
   },
   "outputs": [],
   "source": []
  },
  {
   "cell_type": "code",
   "execution_count": null,
   "metadata": {
    "collapsed": true
   },
   "outputs": [],
   "source": []
  },
  {
   "cell_type": "code",
   "execution_count": null,
   "metadata": {
    "collapsed": true
   },
   "outputs": [],
   "source": []
  },
  {
   "cell_type": "code",
   "execution_count": null,
   "metadata": {
    "collapsed": true
   },
   "outputs": [],
   "source": [
    "manager.get_relative_mouse_pos()"
   ]
  },
  {
   "cell_type": "code",
   "execution_count": null,
   "metadata": {
    "collapsed": true
   },
   "outputs": [],
   "source": [
    "manager.factory_pos"
   ]
  },
  {
   "cell_type": "code",
   "execution_count": null,
   "metadata": {
    "collapsed": true
   },
   "outputs": [],
   "source": [
    "pos, diff = manager.get_relative_pos(cv2.imread('./image_files/add_doll_retire.PNG'), 1)\n",
    "pos"
   ]
  },
  {
   "cell_type": "code",
   "execution_count": null,
   "metadata": {
    "collapsed": true
   },
   "outputs": [],
   "source": [
    "manager.get_relative_mouse_pos()"
   ]
  },
  {
   "cell_type": "code",
   "execution_count": null,
   "metadata": {
    "collapsed": true
   },
   "outputs": [],
   "source": [
    "manager.click_relative_pos([112, 279])"
   ]
  },
  {
   "cell_type": "code",
   "execution_count": null,
   "metadata": {
    "collapsed": true
   },
   "outputs": [],
   "source": [
    "time.clock()"
   ]
  },
  {
   "cell_type": "code",
   "execution_count": null,
   "metadata": {
    "collapsed": true
   },
   "outputs": [],
   "source": [
    "pos, diff = manager.get_relative_pos(cv2.imread('./image_files/stat_bar.PNG'), 1)\n",
    "\n",
    "diff[0]"
   ]
  },
  {
   "cell_type": "code",
   "execution_count": null,
   "metadata": {
    "collapsed": true
   },
   "outputs": [],
   "source": [
    "emerg_pos = manager.get_relative_pos(cv2.imread('./image_files/emergency.PNG'))[0][0]\n",
    "manager.click_relative_pos(emerg_pos); random_sleep(0.5)"
   ]
  },
  {
   "cell_type": "code",
   "execution_count": null,
   "metadata": {
    "collapsed": true
   },
   "outputs": [],
   "source": [
    "stage_pos = manager.get_relative_pos(cv2.imread('./image_files/EP04-3E.PNG'))[0][0]\n",
    "manager.click_relative_pos(stage_pos); random_sleep(0.5)"
   ]
  },
  {
   "cell_type": "code",
   "execution_count": null,
   "metadata": {
    "collapsed": true
   },
   "outputs": [],
   "source": [
    "normal_pos = manager.get_relative_pos(cv2.imread('./image_files/normal.PNG'))[0][0]\n",
    "manager.click_relative_pos(normal_pos); random_sleep(3)"
   ]
  },
  {
   "cell_type": "code",
   "execution_count": null,
   "metadata": {
    "collapsed": true
   },
   "outputs": [],
   "source": [
    "command_pos = manager.get_relative_pos(cv2.imread('./image_files/command.PNG'))[0][0]\n",
    "manager.click_relative_pos(command_pos); random_sleep(1)"
   ]
  },
  {
   "cell_type": "code",
   "execution_count": null,
   "metadata": {
    "collapsed": true
   },
   "outputs": [],
   "source": [
    "dummy_pos = manager.get_relative_pos(cv2.imread('./image_files/dummy.PNG'))[0][0]\n",
    "manager.click_relative_pos(dummy_pos); random_sleep(0.5)"
   ]
  },
  {
   "cell_type": "code",
   "execution_count": null,
   "metadata": {
    "collapsed": true
   },
   "outputs": [],
   "source": [
    "confirm_pos = manager.get_relative_pos(cv2.imread('./image_files/confirm.PNG'))[0][0]\n",
    "manager.click_relative_pos(confirm_pos); random_sleep(0.5)"
   ]
  },
  {
   "cell_type": "code",
   "execution_count": null,
   "metadata": {
    "collapsed": true
   },
   "outputs": [],
   "source": [
    "manager.run_4_3e(repeat=100,n_restore=3)"
   ]
  },
  {
   "cell_type": "code",
   "execution_count": null,
   "metadata": {
    "collapsed": true
   },
   "outputs": [],
   "source": [
    "manager.restore()"
   ]
  },
  {
   "cell_type": "markdown",
   "metadata": {},
   "source": [
    "# Test"
   ]
  },
  {
   "cell_type": "code",
   "execution_count": null,
   "metadata": {
    "collapsed": true
   },
   "outputs": [],
   "source": [
    "import cv2\n",
    "import time\n",
    "import matplotlib.pyplot as plt\n",
    "import numpy as np\n",
    "import sys\n",
    "import win32api, win32con, win32gui\n",
    "from util import *\n",
    "from mss import mss"
   ]
  },
  {
   "cell_type": "code",
   "execution_count": null,
   "metadata": {
    "collapsed": true
   },
   "outputs": [],
   "source": [
    "manager.get_relative_mouse_pos()"
   ]
  },
  {
   "cell_type": "code",
   "execution_count": null,
   "metadata": {
    "collapsed": true
   },
   "outputs": [],
   "source": [
    "manager.restore_pos"
   ]
  },
  {
   "cell_type": "code",
   "execution_count": null,
   "metadata": {
    "collapsed": true
   },
   "outputs": [],
   "source": [
    "add_pos = manager.get_relative_pos(cv2.imread('./image_files/add_doll.PNG'))[0][0]"
   ]
  },
  {
   "cell_type": "code",
   "execution_count": null,
   "metadata": {
    "collapsed": true
   },
   "outputs": [],
   "source": [
    "add_pos"
   ]
  },
  {
   "cell_type": "code",
   "execution_count": null,
   "metadata": {
    "collapsed": true
   },
   "outputs": [],
   "source": []
  }
 ],
 "metadata": {
  "kernelspec": {
   "display_name": "Python 3",
   "language": "python",
   "name": "python3"
  },
  "language_info": {
   "codemirror_mode": {
    "name": "ipython",
    "version": 3
   },
   "file_extension": ".py",
   "mimetype": "text/x-python",
   "name": "python",
   "nbconvert_exporter": "python",
   "pygments_lexer": "ipython3",
   "version": "3.7.3"
  }
 },
 "nbformat": 4,
 "nbformat_minor": 2
}
