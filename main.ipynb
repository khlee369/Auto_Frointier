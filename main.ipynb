{
 "cells": [
  {
   "cell_type": "code",
   "execution_count": 1,
   "metadata": {
    "collapsed": true
   },
   "outputs": [],
   "source": [
    "from launcher import NoxManager"
   ]
  },
  {
   "cell_type": "code",
   "execution_count": 2,
   "metadata": {
    "collapsed": true
   },
   "outputs": [],
   "source": [
    "config = {\n",
    "    'nox_size' : (600, 800)\n",
    "}"
   ]
  },
  {
   "cell_type": "code",
   "execution_count": 3,
   "metadata": {},
   "outputs": [
    {
     "name": "stdout",
     "output_type": "stream",
     "text": [
      "-------------------------------------\n",
      "Run Nox Application and Press Any Key\n",
      "Now Find Nox Position\n",
      "on scanning... 99.71%\n",
      "\n",
      "Refining Nox Position\n",
      "on scanning... 99.98%\n",
      "\n",
      "Finished\n",
      "\n",
      "------------------------------------------\n",
      "Run Girl's Frontier and Move to Main Menu\n",
      "Now Find Menu Positions\n",
      "\n",
      "Compat Pos Obtained\n",
      "Restore Pos Obtained\n",
      "Formation Pos Obtained\n",
      "\n",
      "Finished\n"
     ]
    }
   ],
   "source": [
    "manager = NoxManager(config=config)"
   ]
  },
  {
   "cell_type": "code",
   "execution_count": null,
   "metadata": {
    "scrolled": true
   },
   "outputs": [
    {
     "name": "stdout",
     "output_type": "stream",
     "text": [
      "-------------------------------\n",
      "Return to Base for Running 4-3E\n",
      "Delete Cafe Icon and Press Any Key\n",
      "Is EP.04 Activated? [Y/N] Y\n",
      "\n"
     ]
    }
   ],
   "source": [
    "#manager.run_5_4n(repeat=15)\n",
    "manager.run_4_3e(repeat=5)"
   ]
  },
  {
   "cell_type": "code",
   "execution_count": null,
   "metadata": {
    "collapsed": true
   },
   "outputs": [],
   "source": [
    "manager.restore()"
   ]
  }
 ],
 "metadata": {
  "anaconda-cloud": {},
  "kernelspec": {
   "display_name": "Python 3",
   "language": "python",
   "name": "python3"
  },
  "language_info": {
   "codemirror_mode": {
    "name": "ipython",
    "version": 3
   },
   "file_extension": ".py",
   "mimetype": "text/x-python",
   "name": "python",
   "nbconvert_exporter": "python",
   "pygments_lexer": "ipython3",
   "version": "3.7.3"
  }
 },
 "nbformat": 4,
 "nbformat_minor": 1
}
